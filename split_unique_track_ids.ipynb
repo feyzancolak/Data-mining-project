{
 "cells": [
  {
   "cell_type": "code",
   "execution_count": 1,
   "metadata": {},
   "outputs": [
    {
     "name": "stdout",
     "output_type": "stream",
     "text": [
      "I primi 100.000 elementi sono stati salvati in unique_track_ids_first_100K.csv\n",
      "I restanti elementi sono stati salvati in unique_track_ids_last_100K.csv\n"
     ]
    }
   ],
   "source": [
    "import pandas as pd\n",
    "\n",
    "# Leggi il file CSV\n",
    "input_csv = 'unique_track_ids.csv'\n",
    "output_csv_1 = 'unique_track_ids_first_100K.csv'\n",
    "output_csv_2 = 'unique_track_ids_last_100K.csv'\n",
    "\n",
    "# Carica il DataFrame dal CSV\n",
    "df = pd.read_csv(input_csv)\n",
    "\n",
    "# Divide il DataFrame\n",
    "df_1 = df.head(100000)  # Primi 100.000 elementi\n",
    "df_2 = df.tail(len(df) - 100000)  # Restanti elementi\n",
    "\n",
    "# Salva i DataFrame nei nuovi file CSV\n",
    "df_1.to_csv(output_csv_1, index=False)\n",
    "df_2.to_csv(output_csv_2, index=False)\n",
    "\n",
    "print(f\"I primi 100.000 elementi sono stati salvati in {output_csv_1}\")\n",
    "print(f\"I restanti elementi sono stati salvati in {output_csv_2}\")\n"
   ]
  }
 ],
 "metadata": {
  "kernelspec": {
   "display_name": "DMML",
   "language": "python",
   "name": "python3"
  },
  "language_info": {
   "codemirror_mode": {
    "name": "ipython",
    "version": 3
   },
   "file_extension": ".py",
   "mimetype": "text/x-python",
   "name": "python",
   "nbconvert_exporter": "python",
   "pygments_lexer": "ipython3",
   "version": "3.11.7"
  }
 },
 "nbformat": 4,
 "nbformat_minor": 2
}

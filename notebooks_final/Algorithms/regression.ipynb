{
 "cells": [
  {
   "cell_type": "code",
   "execution_count": null,
   "metadata": {},
   "outputs": [],
   "source": [
    "#logistic regression"
   ]
  },
  {
   "cell_type": "code",
   "execution_count": 22,
   "metadata": {},
   "outputs": [],
   "source": [
    "import matplotlib.pyplot as plt\n",
    "import seaborn as sns\n",
    "\n",
    "import numpy as np\n",
    "\n",
    "from sklearn import datasets\n",
    "from sklearn.linear_model import Lasso\n",
    "from sklearn.model_selection import GridSearchCV, cross_val_predict\n",
    "from sklearn.metrics import PredictionErrorDisplay\n",
    "\n",
    "import pandas as pd"
   ]
  },
  {
   "cell_type": "code",
   "execution_count": 23,
   "metadata": {},
   "outputs": [
    {
     "name": "stdout",
     "output_type": "stream",
     "text": [
      "   region   rank_mean  frequency  danceability  energy  key  loudness  mode  \\\n",
      "0       3   22.000000          4         0.685   0.644   10   -13.206     0   \n",
      "1       3  100.461538        182         0.752   0.620    5    -5.536     1   \n",
      "2       1   93.302548        314         0.748   0.627    7    -6.029     1   \n",
      "3       2   77.031496        635         0.748   0.627    7    -6.029     1   \n",
      "4       3  130.044329        767         0.748   0.627    7    -6.029     1   \n",
      "\n",
      "   speechiness  acousticness  instrumentalness  liveness  valence    tempo  \\\n",
      "0       0.1550         0.302          0.000055    0.1140    0.808  164.919   \n",
      "1       0.0509         0.309          0.000000    0.0750    0.962  117.399   \n",
      "2       0.0639         0.131          0.000000    0.0852    0.524  120.963   \n",
      "3       0.0639         0.131          0.000000    0.0852    0.524  120.963   \n",
      "4       0.0639         0.131          0.000000    0.0852    0.524  120.963   \n",
      "\n",
      "   duration_ms  time_signature  popular  \n",
      "0       169379               4        0  \n",
      "1       164459               4        0  \n",
      "2       188491               4        0  \n",
      "3       188491               4        0  \n",
      "4       188491               4        0  \n"
     ]
    }
   ],
   "source": [
    "data = pd.read_csv(r'C:\\Users\\LENOVO\\Documents\\GitHub\\Data-mining-project\\datasets_final\\final_dataset.csv')\n",
    "print(data.head())"
   ]
  },
  {
   "cell_type": "code",
   "execution_count": null,
   "metadata": {},
   "outputs": [],
   "source": [
    "#feature_names = ['danceability', 'energy', 'key', 'loudness', 'mode', 'speechiness', \n",
    " #                  'acousticness', 'instrumentalness', 'liveness', 'valence', \n",
    "  #                 'tempo', 'duration_ms', 'time_signature']\n",
    "\n",
    "\n",
    "#df = pd.DataFrame(data, columns=feature_names)\n",
    "#df['region'] = data.region\n",
    "#df['popular'] = data.popular\n",
    "#df"
   ]
  },
  {
   "cell_type": "code",
   "execution_count": 24,
   "metadata": {},
   "outputs": [],
   "source": [
    "from sklearn.metrics import r2_score\n",
    "from sklearn.metrics import mean_absolute_error\n",
    "from sklearn.metrics import mean_squared_error\n",
    "from sklearn.metrics import root_mean_squared_error\n",
    "from sklearn.metrics import mean_absolute_percentage_error\n",
    "from sklearn.model_selection import train_test_split\n",
    "from sklearn.linear_model import LogisticRegression\n",
    "from sklearn.metrics import accuracy_score, classification_report,confusion_matrix\n",
    "from sklearn.preprocessing import StandardScaler\n",
    "from imblearn.over_sampling import SMOTE\n",
    "\n"
   ]
  },
  {
   "cell_type": "code",
   "execution_count": 25,
   "metadata": {},
   "outputs": [],
   "source": [
    "#seperate audio features and popular column. Column will be used as a target value\n",
    "X = data.drop(['popular'], axis=1)  # Features\n",
    "y = data['popular']  # Target"
   ]
  },
  {
   "cell_type": "code",
   "execution_count": 26,
   "metadata": {},
   "outputs": [],
   "source": [
    "#split the data into training and testing sets\n",
    "X_train, X_test, y_train, y_test = train_test_split(X, y, test_size=0.2, random_state=42)"
   ]
  },
  {
   "cell_type": "code",
   "execution_count": 27,
   "metadata": {},
   "outputs": [
    {
     "name": "stdout",
     "output_type": "stream",
     "text": [
      "Logical cores: 20\n",
      "Physical cores: 20\n"
     ]
    }
   ],
   "source": [
    "import os\n",
    "import multiprocessing\n",
    "\n",
    "# Get the number of logical cores (hyperthreading cores)\n",
    "logical_cores = os.cpu_count()\n",
    "\n",
    "# Get the number of physical cores\n",
    "physical_cores = multiprocessing.cpu_count()\n",
    "\n",
    "print(f\"Logical cores: {logical_cores}\")\n",
    "print(f\"Physical cores: {physical_cores}\")\n"
   ]
  },
  {
   "cell_type": "code",
   "execution_count": 45,
   "metadata": {},
   "outputs": [
    {
     "name": "stdout",
     "output_type": "stream",
     "text": [
      "Cross-Validation Scores: [0.79286561 0.79793081 0.79055625 0.79160316 0.79030992]\n",
      "Mean Cross-Validation Score: 0.7926531492001908\n"
     ]
    }
   ],
   "source": [
    "from sklearn.model_selection import cross_val_score\n",
    "\n",
    "# Scale the features\n",
    "scaler = StandardScaler()\n",
    "X_train_scaled = scaler.fit_transform(X_train)\n",
    "X_test_scaled = scaler.transform(X_test)\n",
    "\n",
    "# Convert back to DataFrame with original column names\n",
    "X_train_scaled = pd.DataFrame(X_train_scaled, columns=X_train.columns)\n",
    "X_test_scaled = pd.DataFrame(X_test_scaled, columns=X_test.columns)\n",
    "\n",
    "smote = SMOTE(random_state=42)\n",
    "X_resampled, y_resampled = smote.fit_resample(X_train_scaled, y_train)\n",
    "\n",
    "# Train the logistic regression model with scaled data\n",
    "model = LogisticRegression(max_iter=2000, class_weight='balanced',n_jobs=16)\n",
    "model.fit(X_resampled, y_resampled)\n",
    "\n",
    "cv_scores = cross_val_score(model, X, y, cv=5)  # 5-fold cross-validation\n",
    "\n",
    "# Step 3: Print the cross-validation scores\n",
    "print(\"Cross-Validation Scores:\", cv_scores)\n",
    "print(\"Mean Cross-Validation Score:\", cv_scores.mean())"
   ]
  },
  {
   "cell_type": "code",
   "execution_count": 29,
   "metadata": {},
   "outputs": [],
   "source": [
    "#make predictions\n",
    "y_pred = model.predict(X_test)"
   ]
  },
  {
   "cell_type": "code",
   "execution_count": 57,
   "metadata": {},
   "outputs": [
    {
     "name": "stdout",
     "output_type": "stream",
     "text": [
      "[2.15947108e-01 7.26464144e-01 1.11510745e-02 5.21164662e-01\n",
      " 7.57634151e-06 6.38355069e-01 9.55728983e-01 6.70144638e-01\n",
      " 2.22210245e-01 4.78974319e-05]\n",
      "64953\n"
     ]
    }
   ],
   "source": [
    "# Get predicted probabilities\n",
    "y_pred_proba = model.predict_proba(X_test_scaled)[:, 1]\n",
    "print(y_pred_proba[:10])\n",
    "print(len(y_pred_proba))"
   ]
  },
  {
   "cell_type": "code",
   "execution_count": 48,
   "metadata": {},
   "outputs": [
    {
     "name": "stdout",
     "output_type": "stream",
     "text": [
      "Confusion Matrix:\n",
      "[[55340     0]\n",
      " [ 9613     0]]\n",
      "\n",
      "Classification Report:\n",
      "              precision    recall  f1-score   support\n",
      "\n",
      "           0       0.85      1.00      0.92     55340\n",
      "           1       0.00      0.00      0.00      9613\n",
      "\n",
      "    accuracy                           0.85     64953\n",
      "   macro avg       0.43      0.50      0.46     64953\n",
      "weighted avg       0.73      0.85      0.78     64953\n",
      "\n",
      "\n",
      "Accuracy: 0.85\n"
     ]
    },
    {
     "name": "stderr",
     "output_type": "stream",
     "text": [
      "c:\\Users\\LENOVO\\anaconda3\\envs\\DMML\\Lib\\site-packages\\sklearn\\metrics\\_classification.py:1531: UndefinedMetricWarning: Precision is ill-defined and being set to 0.0 in labels with no predicted samples. Use `zero_division` parameter to control this behavior.\n",
      "  _warn_prf(average, modifier, f\"{metric.capitalize()} is\", len(result))\n",
      "c:\\Users\\LENOVO\\anaconda3\\envs\\DMML\\Lib\\site-packages\\sklearn\\metrics\\_classification.py:1531: UndefinedMetricWarning: Precision is ill-defined and being set to 0.0 in labels with no predicted samples. Use `zero_division` parameter to control this behavior.\n",
      "  _warn_prf(average, modifier, f\"{metric.capitalize()} is\", len(result))\n",
      "c:\\Users\\LENOVO\\anaconda3\\envs\\DMML\\Lib\\site-packages\\sklearn\\metrics\\_classification.py:1531: UndefinedMetricWarning: Precision is ill-defined and being set to 0.0 in labels with no predicted samples. Use `zero_division` parameter to control this behavior.\n",
      "  _warn_prf(average, modifier, f\"{metric.capitalize()} is\", len(result))\n"
     ]
    }
   ],
   "source": [
    "# Evaluate the model\n",
    "print(\"Confusion Matrix:\")\n",
    "print(confusion_matrix(y_test, y_pred))\n",
    "\n",
    "print(\"\\nClassification Report:\")\n",
    "print(classification_report(y_test, y_pred))\n",
    "\n",
    "accuracy = accuracy_score(y_test, y_pred)\n",
    "print(f\"\\nAccuracy: {accuracy:.2f}\")"
   ]
  },
  {
   "cell_type": "code",
   "execution_count": 33,
   "metadata": {},
   "outputs": [
    {
     "data": {
      "image/png": "[encoded data removed]",
      "text/plain": [
       "<Figure size 1000x600 with 1 Axes>"
      ]
     },
     "metadata": {},
     "output_type": "display_data"
    }
   ],
   "source": [
    "# Get the coefficients\n",
    "coefficients = model.coef_[0]\n",
    "feature_importance = pd.DataFrame({'Feature': X.columns, 'Coefficient': coefficients})\n",
    "\n",
    "# Sort by absolute value of coefficients\n",
    "feature_importance['Absolute Coefficient'] = feature_importance['Coefficient'].abs()\n",
    "feature_importance = feature_importance.sort_values(by='Absolute Coefficient', ascending=False)\n",
    "\n",
    "# Plot feature importance\n",
    "plt.figure(figsize=(10, 6))\n",
    "sns.barplot(x='Absolute Coefficient', y='Feature', data=feature_importance)\n",
    "plt.title('Feature Importance in Predicting Song Popularity')\n",
    "plt.show()"
   ]
  },
  {
   "cell_type": "code",
   "execution_count": 34,
   "metadata": {},
   "outputs": [
    {
     "name": "stdout",
     "output_type": "stream",
     "text": [
      "        rank_mean   frequency  danceability    energy       key  loudness  \\\n",
      "region                                                                      \n",
      "0       77.279196   51.337591      0.686295  0.619734  5.206424 -7.608736   \n",
      "1       76.333008   49.105086      0.603382  0.629306  5.294207 -6.861704   \n",
      "2       69.784356   79.646751      0.661498  0.641239  5.287374 -7.342089   \n",
      "3       71.238965  188.652069      0.663322  0.660444  5.356673 -6.707045   \n",
      "4       75.454600   61.900429      0.642029  0.611241  5.288157 -7.634013   \n",
      "5       79.722327   49.952433      0.657891  0.620176  5.185422 -6.990812   \n",
      "6       78.484784   50.920149      0.642139  0.635878  5.316541 -7.348868   \n",
      "7       67.062057   61.443718      0.647060  0.630660  5.223630 -7.050239   \n",
      "8       71.296282   98.986811      0.622576  0.583866  5.239207 -7.393087   \n",
      "9       71.917001   52.769791      0.649298  0.646239  5.306584 -7.021315   \n",
      "10      81.339365   64.664749      0.669418  0.642748  5.338206 -7.263375   \n",
      "\n",
      "            mode  speechiness  acousticness  instrumentalness  liveness  \\\n",
      "region                                                                    \n",
      "0       0.507380     0.137555      0.258984          0.042128  0.168484   \n",
      "1       0.678162     0.079573      0.303238          0.041702  0.177206   \n",
      "2       0.540551     0.129643      0.240827          0.056453  0.181547   \n",
      "3       0.592774     0.105519      0.286342          0.042024  0.194432   \n",
      "4       0.461966     0.104671      0.295419          0.057146  0.178443   \n",
      "5       0.609833     0.131226      0.236592          0.031454  0.179007   \n",
      "6       0.562723     0.108689      0.232455          0.043572  0.182453   \n",
      "7       0.608444     0.115602      0.231270          0.048302  0.179257   \n",
      "8       0.658991     0.081898      0.358693          0.035088  0.171726   \n",
      "9       0.563503     0.119060      0.265321          0.040724  0.176856   \n",
      "10      0.525084     0.145118      0.252367          0.055904  0.173187   \n",
      "\n",
      "         valence       tempo    duration_ms  time_signature   popular  \\\n",
      "region                                                                  \n",
      "0       0.484021  120.407525  219551.520612        3.958164  0.157400   \n",
      "1       0.471332  121.523001  229571.730446        3.955369  0.117378   \n",
      "2       0.470928  122.332345  205515.981057        3.959144  0.181413   \n",
      "3       0.580553  122.605091  217127.500357        3.942395  0.183540   \n",
      "4       0.470276  120.141889  213894.572585        3.946380  0.152065   \n",
      "5       0.463928  121.361775  206987.984915        3.953424  0.127450   \n",
      "6       0.485910  121.294983  203514.754643        3.952342  0.120372   \n",
      "7       0.471850  120.815450  213396.975349        3.958189  0.162683   \n",
      "8       0.459893  119.924531  222230.314342        3.936685  0.196685   \n",
      "9       0.496328  121.241911  210862.335789        3.952303  0.125275   \n",
      "10      0.489462  120.900699  205864.402032        3.963226  0.117159   \n",
      "\n",
      "        Predicted Popularity  \n",
      "region                        \n",
      "0                        0.0  \n",
      "1                        0.0  \n",
      "2                        0.0  \n",
      "3                        0.0  \n",
      "4                        0.0  \n",
      "5                        0.0  \n",
      "6                        0.0  \n",
      "7                        0.0  \n",
      "8                        0.0  \n",
      "9                        0.0  \n",
      "10                       0.0  \n"
     ]
    }
   ],
   "source": [
    "# Add predictions to the original dataset\n",
    "data['Predicted Popularity'] = model.predict(X)\n",
    "\n",
    "# Group by region and analyze the mean of each audio feature\n",
    "region_analysis = data.groupby('region').mean()\n",
    "\n",
    "print(region_analysis)"
   ]
  },
  {
   "cell_type": "code",
   "execution_count": 46,
   "metadata": {},
   "outputs": [
    {
     "name": "stdout",
     "output_type": "stream",
     "text": [
      "The new song is predicted to be popular.\n"
     ]
    }
   ],
   "source": [
    "# Example new song features\n",
    "new_song_data = {\n",
    "    'region': 5,\n",
    "    'rank_mean': 0,  # Placeholder value,\n",
    "    'frequency': 0,  # Placeholder value,\n",
    "    'danceability': 0.7,\n",
    "    'energy': 0.8,\n",
    "    'key': 5,               \n",
    "    'loudness': -5.0,\n",
    "    'mode': 1,\n",
    "    'speechiness': 0.05,\n",
    "    'acousticness': 0.1,\n",
    "    'instrumentalness': 0.0,\n",
    "    'liveness': 0.2,\n",
    "    'valence': 0.6,\n",
    "    'tempo': 120,\n",
    "    'duration_ms': 200000,\n",
    "    'time_signature': 4\n",
    "}\n",
    "\n",
    "# Create a DataFrame\n",
    "new_song_df = pd.DataFrame([new_song_data], columns=X.columns)\n",
    "\n",
    "# Scale the new song data\n",
    "new_song_scaled = scaler.transform(new_song_df)\n",
    "\n",
    "# Convert the scaled data back to a DataFrame and assign feature names\n",
    "new_song_scaled_df = pd.DataFrame(new_song_scaled, columns=X.columns)\n",
    "\n",
    "# Make prediction\n",
    "predicted_popularity = model.predict(new_song_scaled_df)\n",
    "\n",
    "# Output the prediction\n",
    "if predicted_popularity[0] == 1:\n",
    "    print(\"The new song is predicted to be popular.\")\n",
    "else:\n",
    "    print(\"The new song is predicted to be not popular.\")\n"
   ]
  },
  {
   "cell_type": "code",
   "execution_count": null,
   "metadata": {},
   "outputs": [],
   "source": []
  }
 ],
 "metadata": {
  "kernelspec": {
   "display_name": "DMML",
   "language": "python",
   "name": "python3"
  },
  "language_info": {
   "codemirror_mode": {
    "name": "ipython",
    "version": 3
   },
   "file_extension": ".py",
   "mimetype": "text/x-python",
   "name": "python",
   "nbconvert_exporter": "python",
   "pygments_lexer": "ipython3",
   "version": "3.11.9"
  }
 },
 "nbformat": 4,
 "nbformat_minor": 2
}

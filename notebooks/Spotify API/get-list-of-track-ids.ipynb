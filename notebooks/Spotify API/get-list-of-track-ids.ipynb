{
 "cells": [
  {
   "cell_type": "code",
   "execution_count": 1,
   "metadata": {},
   "outputs": [
    {
     "name": "stdout",
     "output_type": "stream",
     "text": [
      "Unique track IDs have been saved to 'unique_track_ids.csv'.\n"
     ]
    }
   ],
   "source": [
    "import pandas as pd\n",
    "\n",
    "# Load the dataset\n",
    "df = pd.read_csv('charts.csv')\n",
    "\n",
    "# Function to extract track_id from the URL\n",
    "def extract_track_id(url):\n",
    "    return url.rstrip('/').split('/')[-1]\n",
    "\n",
    "# Apply the function to create a new column with track_id\n",
    "df['track_id'] = df['url'].apply(extract_track_id)\n",
    "\n",
    "# Drop duplicates based on the 'track_id' column\n",
    "df_unique = df.drop_duplicates(subset=['track_id'])\n",
    "\n",
    "# Select only the 'track_id' column\n",
    "df_unique_track_ids = df_unique[['track_id']]\n",
    "\n",
    "# Save the unique track IDs to a new CSV file\n",
    "df_unique_track_ids.to_csv('unique_track_ids.csv', index=False)\n",
    "\n",
    "print(\"Unique track IDs have been saved to 'unique_track_ids.csv'.\")\n"
   ]
  },
  {
   "cell_type": "code",
   "execution_count": 2,
   "metadata": {},
   "outputs": [
    {
     "name": "stdout",
     "output_type": "stream",
     "text": [
      "Requirement already satisfied: pandas in c:\\users\\noemi\\anaconda3\\envs\\dmml\\lib\\site-packages (2.2.2)\n",
      "Requirement already satisfied: numpy>=1.23.2 in c:\\users\\noemi\\anaconda3\\envs\\dmml\\lib\\site-packages (from pandas) (1.26.4)\n",
      "Requirement already satisfied: python-dateutil>=2.8.2 in c:\\users\\noemi\\anaconda3\\envs\\dmml\\lib\\site-packages (from pandas) (2.9.0)\n",
      "Requirement already satisfied: pytz>=2020.1 in c:\\users\\noemi\\anaconda3\\envs\\dmml\\lib\\site-packages (from pandas) (2024.1)\n",
      "Requirement already satisfied: tzdata>=2022.7 in c:\\users\\noemi\\anaconda3\\envs\\dmml\\lib\\site-packages (from pandas) (2024.1)\n",
      "Requirement already satisfied: six>=1.5 in c:\\users\\noemi\\anaconda3\\envs\\dmml\\lib\\site-packages (from python-dateutil>=2.8.2->pandas) (1.16.0)\n"
     ]
    }
   ],
   "source": [
    "!pip install pandas"
   ]
  }
 ],
 "metadata": {
  "kernelspec": {
   "display_name": "DMML",
   "language": "python",
   "name": "python3"
  },
  "language_info": {
   "codemirror_mode": {
    "name": "ipython",
    "version": 3
   },
   "file_extension": ".py",
   "mimetype": "text/x-python",
   "name": "python",
   "nbconvert_exporter": "python",
   "pygments_lexer": "ipython3",
   "version": "3.11.7"
  }
 },
 "nbformat": 4,
 "nbformat_minor": 2
}

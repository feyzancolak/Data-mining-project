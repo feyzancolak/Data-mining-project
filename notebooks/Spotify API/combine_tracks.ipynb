{
 "cells": [
  {
   "cell_type": "code",
   "execution_count": 1,
   "metadata": {},
   "outputs": [],
   "source": [
    "import pandas as pd\n"
   ]
  },
  {
   "cell_type": "code",
   "execution_count": 10,
   "metadata": {},
   "outputs": [],
   "source": [
    "first_tracks = pd.read_csv(r'C:\\Users\\noemi\\Documents\\GitHub\\Data-mining-project\\datasets\\Previous_versions\\first_100K_track_ids_features.csv')\n",
    "last_tracks = pd.read_csv(r'C:\\Users\\noemi\\Documents\\GitHub\\Data-mining-project\\datasets\\Previous_versions\\last_100K_track_ids_features.csv')\n",
    "\n",
    "# Concatenate the DataFrames along rows (stack them)\n",
    "merged_df = pd.concat([first_tracks, last_tracks], axis=0)\n",
    "\n",
    "merged_df.to_csv(r'C:\\Users\\noemi\\Documents\\GitHub\\Data-mining-project\\datasets\\Final_version\\all_tracks.csv', index=False)\n",
    "\n",
    "\n",
    "\n",
    "\n"
   ]
  }
 ],
 "metadata": {
  "kernelspec": {
   "display_name": "DMML",
   "language": "python",
   "name": "python3"
  },
  "language_info": {
   "codemirror_mode": {
    "name": "ipython",
    "version": 3
   },
   "file_extension": ".py",
   "mimetype": "text/x-python",
   "name": "python",
   "nbconvert_exporter": "python",
   "pygments_lexer": "ipython3",
   "version": "3.11.7"
  }
 },
 "nbformat": 4,
 "nbformat_minor": 2
}

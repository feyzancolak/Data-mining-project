{
 "cells": [
  {
   "cell_type": "code",
   "execution_count": 3,
   "metadata": {},
   "outputs": [],
   "source": [
    "import pandas as pd"
   ]
  },
  {
   "cell_type": "code",
   "execution_count": 72,
   "metadata": {},
   "outputs": [],
   "source": [
    "data = pd.read_csv(r'C:\\Users\\LENOVO\\Documents\\GitHub\\Data-mining-project\\datasets\\First_35_regions\\Japan_tracks_filtered.csv')"
   ]
  },
  {
   "cell_type": "code",
   "execution_count": 73,
   "metadata": {},
   "outputs": [],
   "source": [
    "# Convert 'date' column to datetime format\n",
    "data['date'] = pd.to_datetime(data['date'])\n",
    "\n",
    "# Drop unnecessary columns before grouping\n",
    "data = data.drop(columns=['chart', 'trend'])\n",
    "\n",
    "# Group by title and artist first to handle duplicate IDs\n",
    "grouped = data.groupby(['title', 'artist', 'region']).agg(\n",
    "    rank_mean=('rank', 'mean'),\n",
    "    streams_sum=('streams', 'sum'),\n",
    "    date=('date', 'min'),\n",
    "    frequency=('title', 'size'),\n",
    "    id=('id', 'first')  # Take the first ID, since they are considered the same song\n",
    ").reset_index()\n",
    "\n",
    "\n",
    "# Save the result to a new CSV file\n",
    "grouped.to_csv('Japan_processed_tracks_filtered.csv', index=False)"
   ]
  }
 ],
 "metadata": {
  "kernelspec": {
   "display_name": "DMML",
   "language": "python",
   "name": "python3"
  },
  "language_info": {
   "codemirror_mode": {
    "name": "ipython",
    "version": 3
   },
   "file_extension": ".py",
   "mimetype": "text/x-python",
   "name": "python",
   "nbconvert_exporter": "python",
   "pygments_lexer": "ipython3",
   "version": "3.11.9"
  }
 },
 "nbformat": 4,
 "nbformat_minor": 2
}

{
 "cells": [
  {
   "cell_type": "code",
   "execution_count": 1,
   "metadata": {},
   "outputs": [],
   "source": [
    "import pandas as pd\n",
    "import matplotlib.pyplot as plt\n"
   ]
  },
  {
   "cell_type": "code",
   "execution_count": 10,
   "metadata": {},
   "outputs": [],
   "source": [
    "df = pd.read_csv(r'C:\\Users\\LENOVO\\Documents\\GitHub\\Data-mining-project\\datasets\\final_combined_dataset.csv')"
   ]
  },
  {
   "cell_type": "code",
   "execution_count": null,
   "metadata": {},
   "outputs": [],
   "source": [
    "# Plotting histograms to analyze distribution\n",
    "df['rank_mean'].hist(bins=50)\n",
    "plt.title('Rank Mean Distribution')\n",
    "plt.xlabel('Rank Mean')\n",
    "plt.ylabel('Frequency')\n",
    "plt.show()\n",
    "\n",
    "df['frequency'].hist(bins=50)\n",
    "plt.title('Frequency Distribution')\n",
    "plt.xlabel('Frequency')\n",
    "plt.ylabel('Count')\n",
    "plt.show()\n",
    "\n",
    "# Get descriptive statistics for rank_mean and frequency\n",
    "print(df['rank_mean'].describe())\n",
    "print(df['frequency'].describe())"
   ]
  },
  {
   "cell_type": "code",
   "execution_count": null,
   "metadata": {},
   "outputs": [],
   "source": [
    "# Calculate percentiles for rank_mean and frequency\n",
    "rank_threshold = df['rank_mean'].quantile(0.4)  # 30th percentile\n",
    "frequency_threshold = df['frequency'].quantile(0.6)  # 75th percentile\n",
    "\n",
    "print(f\"Rank Threshold (30th percentile): {rank_threshold}\")\n",
    "print(f\"Frequency Threshold (75th percentile): {frequency_threshold}\")\n"
   ]
  },
  {
   "cell_type": "code",
   "execution_count": null,
   "metadata": {},
   "outputs": [],
   "source": [
    "# Apply the thresholds\n",
    "df['popular'] = 0\n",
    "df.loc[(df['rank_mean'] < rank_threshold) & (df['frequency'] > frequency_threshold), 'popular'] = 1\n",
    "\n",
    "# Check the distribution of popular vs non-popular songs\n",
    "print(df['popular'].value_counts(normalize=True))\n"
   ]
  },
  {
   "cell_type": "code",
   "execution_count": null,
   "metadata": {},
   "outputs": [],
   "source": [
    "# check distribution of each region \n",
    "df.groupby('region')['popular'].value_counts(normalize=True)"
   ]
  },
  {
   "cell_type": "code",
   "execution_count": 25,
   "metadata": {},
   "outputs": [],
   "source": [
    "# Create the 'popular' column based on the thresholds\n",
    "df['popular'] = 0  # Initialize the column to 0 (not popular)\n",
    "\n",
    "# Set 'popular' to 1 where the conditions are met\n",
    "df.loc[(df['rank_mean'] < rank_threshold) & (df['frequency'] > frequency_threshold), 'popular'] = 1\n",
    "\n",
    "df.to_csv(r'C:\\Users\\LENOVO\\Documents\\GitHub\\Data-mining-project\\datasets\\final_combined_dataset.csv', index=False)\n",
    "# Now 'df' has the new 'popular' column with values 1 or 0"
   ]
  },
  {
   "cell_type": "code",
   "execution_count": null,
   "metadata": {},
   "outputs": [],
   "source": [
    "# Count the number of 1s and 0s in the 'popular' column\n",
    "popular_counts = df['popular'].value_counts()\n",
    "\n",
    "# Print the result\n",
    "print(popular_counts)\n"
   ]
  },
  {
   "cell_type": "code",
   "execution_count": 69,
   "metadata": {},
   "outputs": [],
   "source": [
    "# delete the non numerical columns: id, title, artist, date, rank_mean, frequency\n",
    "# Drop the specified columns\n",
    "df_filtered = df.drop(columns=['id', 'title', 'artist', 'date', 'rank_mean', 'frequency'])\n",
    "\n",
    "# Save the new DataFrame to a CSV file\n",
    "df_filtered.to_csv('final_numarical_dataset.csv', index=False)\n"
   ]
  }
 ],
 "metadata": {
  "kernelspec": {
   "display_name": "DMML",
   "language": "python",
   "name": "python3"
  },
  "language_info": {
   "codemirror_mode": {
    "name": "ipython",
    "version": 3
   },
   "file_extension": ".py",
   "mimetype": "text/x-python",
   "name": "python",
   "nbconvert_exporter": "python",
   "pygments_lexer": "ipython3",
   "version": "3.11.9"
  }
 },
 "nbformat": 4,
 "nbformat_minor": 2
}

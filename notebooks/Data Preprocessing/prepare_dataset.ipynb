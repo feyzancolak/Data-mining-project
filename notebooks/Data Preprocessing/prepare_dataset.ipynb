{
 "cells": [
  {
   "cell_type": "code",
   "execution_count": 2,
   "metadata": {},
   "outputs": [],
   "source": [
    "import pandas as pd"
   ]
  },
  {
   "cell_type": "code",
   "execution_count": 9,
   "metadata": {},
   "outputs": [
    {
     "name": "stdout",
     "output_type": "stream",
     "text": [
      "['Argentina' 'Australia' 'Austria' 'Belgium' 'Bolivia' 'Brazil' 'Bulgaria'\n",
      " 'Canada' 'Chile' 'Colombia' 'Costa Rica' 'Czech Republic' 'Denmark'\n",
      " 'Dominican Republic' 'Ecuador' 'Egypt' 'El Salvador' 'Estonia' 'Finland'\n",
      " 'France' 'Germany' 'Greece' 'Guatemala' 'Honduras' 'Hong Kong' 'Hungary'\n",
      " 'Iceland' 'India' 'Indonesia' 'Ireland' 'Italy' 'Japan' 'Latvia'\n",
      " 'Lithuania' 'Luxembourg' 'Malaysia' 'Mexico' 'Morocco' 'Netherlands'\n",
      " 'New Zealand' 'Nicaragua' 'Norway' 'Panama' 'Paraguay' 'Peru'\n",
      " 'Philippines' 'Poland' 'Portugal' 'Romania' 'Saudi Arabia' 'Singapore'\n",
      " 'Slovakia' 'South Africa' 'South Korea' 'Spain' 'Sweden' 'Switzerland'\n",
      " 'Taiwan' 'Thailand' 'Turkey' 'Ukraine' 'United Arab Emirates'\n",
      " 'United Kingdom' 'United States' 'Uruguay' 'Vietnam']\n"
     ]
    }
   ],
   "source": [
    "df = pd.read_csv(r'C:\\Users\\noemi\\Documents\\GitHub\\Data-mining-project\\datasets\\Final_version\\final_combined_dataset.csv')\n",
    "\n",
    "regions = df['region'].unique()\n",
    "\n",
    "print(regions)"
   ]
  },
  {
   "cell_type": "code",
   "execution_count": 8,
   "metadata": {},
   "outputs": [],
   "source": [
    "\n",
    "df = df[~df['region'].isin(['Global', 'Israel', 'Russia'])]\n",
    "\n",
    "df.to_csv(r'C:\\Users\\noemi\\Documents\\GitHub\\Data-mining-project\\datasets\\Final_version\\final_combined_dataset.csv', index=False)"
   ]
  },
  {
   "cell_type": "code",
   "execution_count": 10,
   "metadata": {},
   "outputs": [],
   "source": [
    "latin_american_countries = [\n",
    "    'Argentina', 'Bolivia', 'Brazil', 'Chile', 'Colombia', 'Costa Rica', \n",
    "    'Dominican Republic', 'Ecuador', 'El Salvador', 'Guatemala', 'Honduras', \n",
    "    'Mexico', 'Nicaragua', 'Panama', 'Paraguay', 'Peru', 'Uruguay'\n",
    "]\n",
    "\n",
    "# Replace the region \n",
    "df.loc[df['region'].isin(latin_american_countries), 'region'] = 'Latin America'\n",
    "\n",
    "# Save the updated dataset\n",
    "df.to_csv(r'C:\\Users\\noemi\\Documents\\GitHub\\Data-mining-project\\datasets\\Final_version\\final_combined_dataset.csv', index=False)"
   ]
  },
  {
   "cell_type": "code",
   "execution_count": 11,
   "metadata": {},
   "outputs": [],
   "source": [
    "north_american_countries = [\n",
    "    'Canada', 'United States'\n",
    "]\n",
    "\n",
    "# Replace the region \n",
    "df.loc[df['region'].isin(north_american_countries), 'region'] = 'North America'\n",
    "\n",
    "# Save the updated dataset\n",
    "df.to_csv(r'C:\\Users\\noemi\\Documents\\GitHub\\Data-mining-project\\datasets\\Final_version\\final_combined_dataset.csv', index=False)"
   ]
  },
  {
   "cell_type": "code",
   "execution_count": 12,
   "metadata": {},
   "outputs": [],
   "source": [
    "western_european_countries = [\n",
    "    'Austria', 'Belgium', 'France', 'Germany', 'Ireland', 'Luxembourg', \n",
    "    'Netherlands', 'Switzerland', 'United Kingdom'\n",
    "]\n",
    "\n",
    "# Replace the region \n",
    "df.loc[df['region'].isin(western_european_countries), 'region'] = 'Western Europe'\n",
    "\n",
    "# Save the updated dataset\n",
    "df.to_csv(r'C:\\Users\\noemi\\Documents\\GitHub\\Data-mining-project\\datasets\\Final_version\\final_combined_dataset.csv', index=False)"
   ]
  },
  {
   "cell_type": "code",
   "execution_count": 13,
   "metadata": {},
   "outputs": [],
   "source": [
    "eastern_european_countries = [\n",
    "    'Bulgaria', 'Czech Republic', 'Estonia', 'Hungary', 'Latvia', \n",
    "    'Lithuania', 'Poland', 'Romania', 'Slovakia', 'Ukraine'\n",
    "]\n",
    "\n",
    "# Replace the region \n",
    "df.loc[df['region'].isin(eastern_european_countries), 'region'] = 'Eastern Europe'\n",
    "\n",
    "# Save the updated dataset\n",
    "df.to_csv(r'C:\\Users\\noemi\\Documents\\GitHub\\Data-mining-project\\datasets\\Final_version\\final_combined_dataset.csv', index=False)"
   ]
  },
  {
   "cell_type": "code",
   "execution_count": 14,
   "metadata": {},
   "outputs": [],
   "source": [
    "regions_mapping = {\n",
    "    'Southern Europe': ['Greece', 'Italy', 'Portugal', 'Spain'],\n",
    "    'East Asia': ['China', 'Japan', 'South Korea', 'Taiwan'],\n",
    "    'South Asia': ['India', 'Indonesia', 'Malaysia', 'Philippines', 'Singapore', 'Thailand', 'Vietnam'],\n",
    "    'Middle East': ['Saudi Arabia', 'Turkey', 'United Arab Emirates'],\n",
    "    'Oceania': ['Australia', 'New Zealand'],\n",
    "    'Africa': ['Egypt', 'Morocco', 'South Africa']\n",
    "}\n",
    "\n",
    "# Update the 'region' \n",
    "for region, countries in regions_mapping.items():\n",
    "    df.loc[df['region'].isin(countries), 'region'] = region\n",
    "\n",
    "df.to_csv(r'C:\\Users\\noemi\\Documents\\GitHub\\Data-mining-project\\datasets\\Final_version\\final_combined_dataset.csv', index=False)"
   ]
  },
  {
   "cell_type": "code",
   "execution_count": 4,
   "metadata": {},
   "outputs": [],
   "source": [
    "import pandas as pd"
   ]
  },
  {
   "cell_type": "code",
   "execution_count": 5,
   "metadata": {},
   "outputs": [
    {
     "name": "stdout",
     "output_type": "stream",
     "text": [
      "['Latin America' 'Oceania' 'Western Europe' 'Eastern Europe'\n",
      " 'North America' 'Denmark' 'Africa' 'Finland' 'Southern Europe'\n",
      " 'Hong Kong' 'Iceland' 'South Asia' 'East Asia' 'Norway' 'Middle East'\n",
      " 'Sweden']\n"
     ]
    }
   ],
   "source": [
    "df = pd.read_csv(r'C:\\Users\\noemi\\Documents\\GitHub\\Data-mining-project\\datasets\\Final_version\\final_combined_dataset.csv')\n",
    "\n",
    "print(df['region'].unique()) \n"
   ]
  },
  {
   "cell_type": "code",
   "execution_count": 6,
   "metadata": {},
   "outputs": [],
   "source": [
    "# Add Northern Europe\n",
    "northern_europe_countries = ['Denmark', 'Finland', 'Iceland', 'Norway', 'Sweden']\n",
    "df.loc[df['region'].isin(northern_europe_countries), 'region'] = 'Northern Europe'\n",
    "\n",
    "\n",
    "df.loc[df['region'] == 'Hong Kong', 'region'] = 'East Asia'\n",
    "\n",
    "df.to_csv(r'C:\\Users\\noemi\\Documents\\GitHub\\Data-mining-project\\datasets\\Final_version\\final_combined_dataset.csv', index=False)"
   ]
  },
  {
   "cell_type": "code",
   "execution_count": 7,
   "metadata": {},
   "outputs": [
    {
     "name": "stdout",
     "output_type": "stream",
     "text": [
      "['Latin America' 'Oceania' 'Western Europe' 'Eastern Europe'\n",
      " 'North America' 'Northern Europe' 'Africa' 'Southern Europe' 'East Asia'\n",
      " 'South Asia' 'Middle East']\n"
     ]
    }
   ],
   "source": [
    "print(df['region'].unique()) "
   ]
  },
  {
   "cell_type": "code",
   "execution_count": 9,
   "metadata": {},
   "outputs": [],
   "source": [
    "df.to_csv(r'C:\\Users\\noemi\\Documents\\GitHub\\Data-mining-project\\datasets\\Final_version\\final_combined_dataset.csv', index=False)"
   ]
  },
  {
   "cell_type": "code",
   "execution_count": 10,
   "metadata": {},
   "outputs": [],
   "source": [
    "# Make sure that the regions have unique song ids\n",
    "regions_to_check = ['Latin America', 'Oceania', 'Western Europe', 'Eastern Europe', \n",
    "                    'North America', 'Northern Europe', 'Africa', 'Southern Europe', \n",
    "                    'East Asia', 'South Asia', 'Middle East']\n",
    "\n",
    "df_filtered = df[df['region'].isin(regions_to_check)]\n",
    "\n",
    "# Group by 'id' and 'region' \n",
    "df_grouped = df_filtered.groupby(['id', 'region']).agg({\n",
    "    'rank_mean': 'mean',        # Mean of rank_mean\n",
    "    'frequency': 'sum',         # Sum of frequency\n",
    "    'date': 'min',              # Earliest date\n",
    "}).reset_index()\n",
    "\n",
    "# Merge back the other columns that remain unchanged\n",
    "df_unchanged = df_filtered.drop(columns=['rank_mean', 'frequency', 'date']).drop_duplicates(subset=['id', 'region'])\n",
    "\n",
    "# Merge the grouped results with the unchanged columns\n",
    "df_final = pd.merge(df_grouped, df_unchanged, on=['id', 'region'], how='left')\n",
    "df_final.to_csv(r'C:\\Users\\noemi\\Documents\\GitHub\\Data-mining-project\\datasets\\Final_version\\final_combined_dataset.csv', index=False)\n"
   ]
  },
  {
   "cell_type": "code",
   "execution_count": 11,
   "metadata": {},
   "outputs": [
    {
     "name": "stdout",
     "output_type": "stream",
     "text": [
      "No duplicates found. Each region has unique ids.\n"
     ]
    }
   ],
   "source": [
    "# Check for duplicates in 'id' and 'region'\n",
    "duplicates = df_final[df_final.duplicated(subset=['id', 'region'], keep=False)]\n",
    "\n",
    "if not duplicates.empty:\n",
    "    print(\"Duplicate ids found for the same region:\")\n",
    "    print(duplicates)\n",
    "else:\n",
    "    print(\"No duplicates found. Each region has unique ids.\")"
   ]
  },
  {
   "cell_type": "code",
   "execution_count": null,
   "metadata": {},
   "outputs": [],
   "source": []
  },
  {
   "cell_type": "code",
   "execution_count": null,
   "metadata": {},
   "outputs": [],
   "source": []
  },
  {
   "cell_type": "code",
   "execution_count": null,
   "metadata": {},
   "outputs": [],
   "source": []
  }
 ],
 "metadata": {
  "kernelspec": {
   "display_name": "DMML",
   "language": "python",
   "name": "python3"
  },
  "language_info": {
   "codemirror_mode": {
    "name": "ipython",
    "version": 3
   },
   "file_extension": ".py",
   "mimetype": "text/x-python",
   "name": "python",
   "nbconvert_exporter": "python",
   "pygments_lexer": "ipython3",
   "version": "3.11.7"
  }
 },
 "nbformat": 4,
 "nbformat_minor": 2
}

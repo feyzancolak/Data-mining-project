{
 "cells": [
  {
   "cell_type": "code",
   "execution_count": 2,
   "metadata": {},
   "outputs": [],
   "source": [
    "import pandas as pd"
   ]
  },
  {
   "cell_type": "code",
   "execution_count": 9,
   "metadata": {},
   "outputs": [
    {
     "name": "stdout",
     "output_type": "stream",
     "text": [
      "['Argentina' 'Australia' 'Austria' 'Belgium' 'Bolivia' 'Brazil' 'Bulgaria'\n",
      " 'Canada' 'Chile' 'Colombia' 'Costa Rica' 'Czech Republic' 'Denmark'\n",
      " 'Dominican Republic' 'Ecuador' 'Egypt' 'El Salvador' 'Estonia' 'Finland'\n",
      " 'France' 'Germany' 'Greece' 'Guatemala' 'Honduras' 'Hong Kong' 'Hungary'\n",
      " 'Iceland' 'India' 'Indonesia' 'Ireland' 'Italy' 'Japan' 'Latvia'\n",
      " 'Lithuania' 'Luxembourg' 'Malaysia' 'Mexico' 'Morocco' 'Netherlands'\n",
      " 'New Zealand' 'Nicaragua' 'Norway' 'Panama' 'Paraguay' 'Peru'\n",
      " 'Philippines' 'Poland' 'Portugal' 'Romania' 'Saudi Arabia' 'Singapore'\n",
      " 'Slovakia' 'South Africa' 'South Korea' 'Spain' 'Sweden' 'Switzerland'\n",
      " 'Taiwan' 'Thailand' 'Turkey' 'Ukraine' 'United Arab Emirates'\n",
      " 'United Kingdom' 'United States' 'Uruguay' 'Vietnam']\n"
     ]
    }
   ],
   "source": [
    "df = pd.read_csv(r'C:\\Users\\noemi\\Documents\\GitHub\\Data-mining-project\\datasets\\Final_version\\final_combined_dataset.csv')\n",
    "\n",
    "regions = df['region'].unique()\n",
    "\n",
    "print(regions)"
   ]
  },
  {
   "cell_type": "code",
   "execution_count": 8,
   "metadata": {},
   "outputs": [],
   "source": [
    "\n",
    "df = df[~df['region'].isin(['Global', 'Israel', 'Russia'])]\n",
    "\n",
    "df.to_csv(r'C:\\Users\\noemi\\Documents\\GitHub\\Data-mining-project\\datasets\\Final_version\\final_combined_dataset.csv', index=False)"
   ]
  },
  {
   "cell_type": "code",
   "execution_count": null,
   "metadata": {},
   "outputs": [],
   "source": []
  }
 ],
 "metadata": {
  "kernelspec": {
   "display_name": "DMML",
   "language": "python",
   "name": "python3"
  },
  "language_info": {
   "codemirror_mode": {
    "name": "ipython",
    "version": 3
   },
   "file_extension": ".py",
   "mimetype": "text/x-python",
   "name": "python",
   "nbconvert_exporter": "python",
   "pygments_lexer": "ipython3",
   "version": "3.11.7"
  }
 },
 "nbformat": 4,
 "nbformat_minor": 2
}

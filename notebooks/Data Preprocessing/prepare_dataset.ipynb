{
 "cells": [
  {
   "cell_type": "code",
   "execution_count": 2,
   "metadata": {},
   "outputs": [],
   "source": [
    "import pandas as pd"
   ]
  },
  {
   "cell_type": "code",
   "execution_count": 9,
   "metadata": {},
   "outputs": [
    {
     "name": "stdout",
     "output_type": "stream",
     "text": [
      "['Argentina' 'Australia' 'Austria' 'Belgium' 'Bolivia' 'Brazil' 'Bulgaria'\n",
      " 'Canada' 'Chile' 'Colombia' 'Costa Rica' 'Czech Republic' 'Denmark'\n",
      " 'Dominican Republic' 'Ecuador' 'Egypt' 'El Salvador' 'Estonia' 'Finland'\n",
      " 'France' 'Germany' 'Greece' 'Guatemala' 'Honduras' 'Hong Kong' 'Hungary'\n",
      " 'Iceland' 'India' 'Indonesia' 'Ireland' 'Italy' 'Japan' 'Latvia'\n",
      " 'Lithuania' 'Luxembourg' 'Malaysia' 'Mexico' 'Morocco' 'Netherlands'\n",
      " 'New Zealand' 'Nicaragua' 'Norway' 'Panama' 'Paraguay' 'Peru'\n",
      " 'Philippines' 'Poland' 'Portugal' 'Romania' 'Saudi Arabia' 'Singapore'\n",
      " 'Slovakia' 'South Africa' 'South Korea' 'Spain' 'Sweden' 'Switzerland'\n",
      " 'Taiwan' 'Thailand' 'Turkey' 'Ukraine' 'United Arab Emirates'\n",
      " 'United Kingdom' 'United States' 'Uruguay' 'Vietnam']\n"
     ]
    }
   ],
   "source": [
    "df = pd.read_csv(r'C:\\Users\\noemi\\Documents\\GitHub\\Data-mining-project\\datasets\\Final_version\\final_combined_dataset.csv')\n",
    "\n",
    "regions = df['region'].unique()\n",
    "\n",
    "print(regions)"
   ]
  },
  {
   "cell_type": "code",
   "execution_count": 8,
   "metadata": {},
   "outputs": [],
   "source": [
    "\n",
    "df = df[~df['region'].isin(['Global', 'Israel', 'Russia'])]\n",
    "\n",
    "df.to_csv(r'C:\\Users\\noemi\\Documents\\GitHub\\Data-mining-project\\datasets\\Final_version\\final_combined_dataset.csv', index=False)"
   ]
  },
  {
   "cell_type": "code",
   "execution_count": 10,
   "metadata": {},
   "outputs": [],
   "source": [
    "latin_american_countries = [\n",
    "    'Argentina', 'Bolivia', 'Brazil', 'Chile', 'Colombia', 'Costa Rica', \n",
    "    'Dominican Republic', 'Ecuador', 'El Salvador', 'Guatemala', 'Honduras', \n",
    "    'Mexico', 'Nicaragua', 'Panama', 'Paraguay', 'Peru', 'Uruguay'\n",
    "]\n",
    "\n",
    "# Replace the region \n",
    "df.loc[df['region'].isin(latin_american_countries), 'region'] = 'Latin America'\n",
    "\n",
    "# Save the updated dataset\n",
    "df.to_csv(r'C:\\Users\\noemi\\Documents\\GitHub\\Data-mining-project\\datasets\\Final_version\\final_combined_dataset.csv', index=False)"
   ]
  },
  {
   "cell_type": "code",
   "execution_count": 11,
   "metadata": {},
   "outputs": [],
   "source": [
    "north_american_countries = [\n",
    "    'Canada', 'United States'\n",
    "]\n",
    "\n",
    "# Replace the region \n",
    "df.loc[df['region'].isin(north_american_countries), 'region'] = 'North America'\n",
    "\n",
    "# Save the updated dataset\n",
    "df.to_csv(r'C:\\Users\\noemi\\Documents\\GitHub\\Data-mining-project\\datasets\\Final_version\\final_combined_dataset.csv', index=False)"
   ]
  },
  {
   "cell_type": "code",
   "execution_count": 12,
   "metadata": {},
   "outputs": [],
   "source": [
    "western_european_countries = [\n",
    "    'Austria', 'Belgium', 'France', 'Germany', 'Ireland', 'Luxembourg', \n",
    "    'Netherlands', 'Switzerland', 'United Kingdom'\n",
    "]\n",
    "\n",
    "# Replace the region \n",
    "df.loc[df['region'].isin(western_european_countries), 'region'] = 'Western Europe'\n",
    "\n",
    "# Save the updated dataset\n",
    "df.to_csv(r'C:\\Users\\noemi\\Documents\\GitHub\\Data-mining-project\\datasets\\Final_version\\final_combined_dataset.csv', index=False)"
   ]
  },
  {
   "cell_type": "code",
   "execution_count": 13,
   "metadata": {},
   "outputs": [],
   "source": [
    "eastern_european_countries = [\n",
    "    'Bulgaria', 'Czech Republic', 'Estonia', 'Hungary', 'Latvia', \n",
    "    'Lithuania', 'Poland', 'Romania', 'Slovakia', 'Ukraine'\n",
    "]\n",
    "\n",
    "# Replace the region \n",
    "df.loc[df['region'].isin(eastern_european_countries), 'region'] = 'Eastern Europe'\n",
    "\n",
    "# Save the updated dataset\n",
    "df.to_csv(r'C:\\Users\\noemi\\Documents\\GitHub\\Data-mining-project\\datasets\\Final_version\\final_combined_dataset.csv', index=False)"
   ]
  },
  {
   "cell_type": "code",
   "execution_count": 14,
   "metadata": {},
   "outputs": [],
   "source": [
    "regions_mapping = {\n",
    "    'Southern Europe': ['Greece', 'Italy', 'Portugal', 'Spain'],\n",
    "    'East Asia': ['China', 'Japan', 'South Korea', 'Taiwan'],\n",
    "    'South Asia': ['India', 'Indonesia', 'Malaysia', 'Philippines', 'Singapore', 'Thailand', 'Vietnam'],\n",
    "    'Middle East': ['Saudi Arabia', 'Turkey', 'United Arab Emirates'],\n",
    "    'Oceania': ['Australia', 'New Zealand'],\n",
    "    'Africa': ['Egypt', 'Morocco', 'South Africa']\n",
    "}\n",
    "\n",
    "# Update the 'region' \n",
    "for region, countries in regions_mapping.items():\n",
    "    df.loc[df['region'].isin(countries), 'region'] = region\n",
    "\n",
    "df.to_csv(r'C:\\Users\\noemi\\Documents\\GitHub\\Data-mining-project\\datasets\\Final_version\\final_combined_dataset.csv', index=False)"
   ]
  },
  {
   "cell_type": "code",
   "execution_count": null,
   "metadata": {},
   "outputs": [],
   "source": []
  },
  {
   "cell_type": "code",
   "execution_count": null,
   "metadata": {},
   "outputs": [],
   "source": []
  },
  {
   "cell_type": "code",
   "execution_count": null,
   "metadata": {},
   "outputs": [],
   "source": []
  }
 ],
 "metadata": {
  "kernelspec": {
   "display_name": "DMML",
   "language": "python",
   "name": "python3"
  },
  "language_info": {
   "codemirror_mode": {
    "name": "ipython",
    "version": 3
   },
   "file_extension": ".py",
   "mimetype": "text/x-python",
   "name": "python",
   "nbconvert_exporter": "python",
   "pygments_lexer": "ipython3",
   "version": "3.11.7"
  }
 },
 "nbformat": 4,
 "nbformat_minor": 2
}
